{
 "cells": [
  {
   "cell_type": "markdown",
   "id": "6d04f54a",
   "metadata": {},
   "source": [
    "# 1. Write a code to reverse a string"
   ]
  },
  {
   "cell_type": "code",
   "execution_count": 1,
   "id": "a87c07e1",
   "metadata": {},
   "outputs": [],
   "source": [
    "str=[\"Azhar\",\"Junaid\",\"Predeep\",\"Kishor\",\"Salman\"]\n",
    "#reverse the string using slicing\n",
    "reverse_string= str[::-1]"
   ]
  },
  {
   "cell_type": "code",
   "execution_count": 2,
   "id": "4f75758f",
   "metadata": {},
   "outputs": [
    {
     "name": "stdout",
     "output_type": "stream",
     "text": [
      "original string is  ['Azhar', 'Junaid', 'Predeep', 'Kishor', 'Salman']\n",
      "reverse string is  ['Salman', 'Kishor', 'Predeep', 'Junaid', 'Azhar']\n"
     ]
    }
   ],
   "source": [
    "print(\"original string is \",str)\n",
    "print(\"reverse string is \",reverse_string)"
   ]
  },
  {
   "cell_type": "markdown",
   "id": "c14574ff",
   "metadata": {},
   "source": [
    "# 2.Write a code to count the number of vowels in a string"
   ]
  },
  {
   "cell_type": "code",
   "execution_count": 3,
   "id": "7c698eeb",
   "metadata": {},
   "outputs": [
    {
     "name": "stdout",
     "output_type": "stream",
     "text": [
      "8\n"
     ]
    }
   ],
   "source": [
    "str=\"I am a good programmer\"\n",
    "vowels=\"aeiouAEIOU\"\n",
    "count=0\n",
    "for i in str:\n",
    "    if i in vowels:\n",
    "        count=count+1\n",
    "print(count)        "
   ]
  },
  {
   "cell_type": "markdown",
   "id": "786a4eee",
   "metadata": {},
   "source": [
    "# 3. Write a code to check if a given string is a palindrome or not"
   ]
  },
  {
   "cell_type": "code",
   "execution_count": 4,
   "id": "b309d4f8",
   "metadata": {},
   "outputs": [
    {
     "name": "stdout",
     "output_type": "stream",
     "text": [
      "Enter a string: \"lata\"\n",
      "The string is not a palindrome.\n"
     ]
    }
   ],
   "source": [
    "# Get user input\n",
    "input_string = input(\"Enter a string: \")\n",
    "\n",
    "# Remove spaces and convert to lowercase\n",
    "s = input_string.replace(\" \", \"\").lower()\n",
    "\n",
    "# Check if the string is equal to its reverse\n",
    "if s == s[::-1]:\n",
    "    print(\"The string is a palindrome.\")\n",
    "else:\n",
    "    print(\"The string is not a palindrome.\")"
   ]
  },
  {
   "cell_type": "code",
   "execution_count": 5,
   "id": "adea2101",
   "metadata": {},
   "outputs": [
    {
     "name": "stdout",
     "output_type": "stream",
     "text": [
      "Enter a string: \"jahaj\"\n",
      "The string is a palindrome.\n"
     ]
    }
   ],
   "source": [
    "# Get user input\n",
    "input_string = input(\"Enter a string: \")\n",
    "\n",
    "# Remove spaces and convert to lowercase\n",
    "s = input_string.replace(\" \", \"\").lower()\n",
    "\n",
    "# Check if the string is equal to its reverse\n",
    "if s == s[::-1]:\n",
    "    print(\"The string is a palindrome.\")\n",
    "else:\n",
    "    print(\"The string is not a palindrome.\")"
   ]
  },
  {
   "cell_type": "markdown",
   "id": "5b5b507c",
   "metadata": {},
   "source": [
    "# 4. Write code to check if two given strings are anagrams of each others"
   ]
  },
  {
   "cell_type": "code",
   "execution_count": 6,
   "id": "f9688be3",
   "metadata": {},
   "outputs": [
    {
     "name": "stdout",
     "output_type": "stream",
     "text": [
      "Enter the first string: \"listen\"\n",
      "Enter the second string: \"silent\"\n",
      "Both the strings are anagrams of each other.\n"
     ]
    }
   ],
   "source": [
    "# Get user input\n",
    "st1 = input(\"Enter the first string: \")\n",
    "st2 = input(\"Enter the second string: \")\n",
    "\n",
    "# Remove spaces and convert to lowercase\n",
    "str1 = st1.replace(\" \", \"\").lower()\n",
    "str2 = st2.replace(\" \", \"\").lower()\n",
    "\n",
    "# Sort the strings alphabetically\n",
    "sorted_str1 = ''.join(sorted(str1))\n",
    "sorted_str2 = ''.join(sorted(str2))\n",
    "\n",
    "# Compare the sorted strings\n",
    "if sorted_str1 == sorted_str2:\n",
    "    print(\"Both the strings are anagrams of each other.\")\n",
    "else:\n",
    "    print(\"The strings are not anagrams of each other.\")\n"
   ]
  },
  {
   "cell_type": "markdown",
   "id": "88ff0486",
   "metadata": {},
   "source": [
    "# 5. Write a code to find all occurrences of  given substring within another strings.\n"
   ]
  },
  {
   "cell_type": "code",
   "execution_count": 7,
   "id": "c61f742f",
   "metadata": {},
   "outputs": [
    {
     "name": "stdout",
     "output_type": "stream",
     "text": [
      "Enter the main string: \"i am a good programmer\"\n",
      "Enter the substring to search: \"good\"\n",
      "Substring '\"good\"' not found in the main string.\n"
     ]
    }
   ],
   "source": [
    "# Get user input\n",
    "main_string = input(\"Enter the main string: \")\n",
    "substring = input(\"Enter the substring to search: \")\n",
    "\n",
    "# Find all occurrences of the substring within the main string\n",
    "occurrences = []\n",
    "length = len(substring)\n",
    "index = main_string.find(substring)\n",
    "while index != -1:\n",
    "    occurrences.append(index)\n",
    "    index = main_string.find(substring, index + length)\n",
    "\n",
    "# Print the results\n",
    "if occurrences:\n",
    "    print(\"All occurrences of substring '{}' in the main string:\".format(substring))\n",
    "    for occurrence in occurrences:\n",
    "        print(\"Index:\", occurrence)\n",
    "else:\n",
    "    print(\"Substring '{}' not found in the main string.\".format(substring))"
   ]
  },
  {
   "cell_type": "markdown",
   "id": "aaf9df16",
   "metadata": {},
   "source": [
    "# 6. Write a code to perform basic string compression using the counts of repeated characters"
   ]
  },
  {
   "cell_type": "code",
   "execution_count": 1,
   "id": "c0050376",
   "metadata": {},
   "outputs": [
    {
     "name": "stdout",
     "output_type": "stream",
     "text": [
      "Compressed string: a2b1c5a3\n"
     ]
    }
   ],
   "source": [
    "s = \"aabcccccaaa\"\n",
    "compressed_string = \"\"\n",
    "count = 1\n",
    "\n",
    "for i in range(len(s)):\n",
    "    if i < len(s) - 1 and s[i] == s[i + 1]:\n",
    "        count += 1\n",
    "    else:\n",
    "        compressed_string += s[i] + str(count)\n",
    "        count = 1\n",
    "\n",
    "compressed_string = compressed_string if len(compressed_string) < len(s) else s\n",
    "\n",
    "print(\"Compressed string:\", compressed_string)"
   ]
  },
  {
   "cell_type": "markdown",
   "id": "bcca655e",
   "metadata": {},
   "source": [
    "# 7.  Write a code to determine if a string has all unique characters"
   ]
  },
  {
   "cell_type": "code",
   "execution_count": 2,
   "id": "49930e33",
   "metadata": {},
   "outputs": [
    {
     "name": "stdout",
     "output_type": "stream",
     "text": [
      "All characters are unique.\n"
     ]
    }
   ],
   "source": [
    "input_str = \"abcdefg\"\n",
    "encountered = set()\n",
    "\n",
    "for char in input_str:\n",
    "    if char in encountered:\n",
    "        print(\"All characters are not unique.\")\n",
    "        break\n",
    "    encountered.add(char)\n",
    "else:\n",
    "    print(\"All characters are unique.\")\n"
   ]
  },
  {
   "cell_type": "markdown",
   "id": "dbf0b86e",
   "metadata": {},
   "source": [
    "# 8. rite a code to convert a given string to uppercase or lowercase"
   ]
  },
  {
   "cell_type": "code",
   "execution_count": 3,
   "id": "8c0dbc8f",
   "metadata": {},
   "outputs": [
    {
     "name": "stdout",
     "output_type": "stream",
     "text": [
      "Enter a string: \"I am a good data analyst engineer\"\n",
      "Enter 'U' for uppercase or 'L' for lowercase: U\n",
      "Uppercase: \"I AM A GOOD DATA ANALYST ENGINEER\"\n"
     ]
    }
   ],
   "source": [
    "input_str = input(\"Enter a string: \")\n",
    "conversion_type = input(\"Enter 'U' for uppercase or 'L' for lowercase: \")\n",
    "\n",
    "if conversion_type == 'U':\n",
    "    converted_str = input_str.upper()\n",
    "    print(\"Uppercase:\", converted_str)\n",
    "elif conversion_type == 'L':\n",
    "    converted_str = input_str.lower()\n",
    "    print(\"Lowercase:\", converted_str)\n",
    "else:\n",
    "    print(\"Invalid input. Please enter 'U' for uppercase or 'L' for lowercase.\")\n"
   ]
  },
  {
   "cell_type": "markdown",
   "id": "7166be73",
   "metadata": {},
   "source": [
    "# 9. Write a code to count the number of words in a string"
   ]
  },
  {
   "cell_type": "code",
   "execution_count": 4,
   "id": "686686f6",
   "metadata": {},
   "outputs": [
    {
     "name": "stdout",
     "output_type": "stream",
     "text": [
      "Enter a string: \"AZHAR IS A GOOD BOY\"\n",
      "Number of words in the string: 5\n"
     ]
    }
   ],
   "source": [
    "input_str = input(\"Enter a string: \")\n",
    "\n",
    "# Split the string into words based on whitespace\n",
    "words = input_str.split()\n",
    "\n",
    "# Count the number of words\n",
    "num_words = len(words)\n",
    "\n",
    "print(\"Number of words in the string:\", num_words)\n"
   ]
  },
  {
   "cell_type": "markdown",
   "id": "cfd3e292",
   "metadata": {},
   "source": [
    "# 10. rite a code to concatenate two strings without using the + operator"
   ]
  },
  {
   "cell_type": "code",
   "execution_count": 5,
   "id": "e3c9d1c4",
   "metadata": {},
   "outputs": [
    {
     "name": "stdout",
     "output_type": "stream",
     "text": [
      "Concatenated string: HelloWorld\n"
     ]
    }
   ],
   "source": [
    "string1 = \"Hello\"\n",
    "string2 = \"World\"\n",
    "\n",
    "# Using join()\n",
    "concatenated_string = \"\".join([string1, string2])\n",
    "\n",
    "print(\"Concatenated string:\", concatenated_string)\n"
   ]
  },
  {
   "cell_type": "markdown",
   "id": "c2df3833",
   "metadata": {},
   "source": [
    "# 11. Write a code to remove all occurrences of a specific element from a list"
   ]
  },
  {
   "cell_type": "code",
   "execution_count": 6,
   "id": "c4b276bf",
   "metadata": {},
   "outputs": [
    {
     "name": "stdout",
     "output_type": "stream",
     "text": [
      "List after removing all occurrences of 2 : [1, 3, 4, 5]\n"
     ]
    }
   ],
   "source": [
    "original_list = [1, 2, 3, 4, 2, 5, 2]\n",
    "element_to_remove = 2\n",
    "\n",
    "new_list = list(filter(lambda x: x != element_to_remove, original_list))\n",
    "\n",
    "print(\"List after removing all occurrences of\", element_to_remove, \":\", new_list)\n"
   ]
  },
  {
   "cell_type": "markdown",
   "id": "adbe8597",
   "metadata": {},
   "source": [
    "# 12.Implement a code to find the second largest number in a given list of integers"
   ]
  },
  {
   "cell_type": "code",
   "execution_count": 7,
   "id": "72c4f026",
   "metadata": {},
   "outputs": [
    {
     "name": "stdout",
     "output_type": "stream",
     "text": [
      "Second largest number: 15\n"
     ]
    }
   ],
   "source": [
    "numbers = [10, 5, 7, 3, 15, 20, 8]\n",
    "# Sort the list in descending order\n",
    "sorted_numbers = sorted(numbers, reverse=True)\n",
    "# Second largest number will be the second element in the sorted list\n",
    "second_largest = sorted_numbers[1]\n",
    "print(\"Second largest number:\", second_largest)\n"
   ]
  },
  {
   "cell_type": "markdown",
   "id": "27636d4b",
   "metadata": {},
   "source": [
    "# 13.Create a code to count the occurrences of each element in a list and return a dictionary with elements as keys and their counts as values"
   ]
  },
  {
   "cell_type": "code",
   "execution_count": 8,
   "id": "5eb9aea3",
   "metadata": {},
   "outputs": [
    {
     "name": "stdout",
     "output_type": "stream",
     "text": [
      "Occurrences: {1: 1, 2: 2, 3: 3, 4: 4}\n"
     ]
    }
   ],
   "source": [
    "input_list = [1, 2, 2, 3, 3, 3, 4, 4, 4, 4]\n",
    "occurrences = {}\n",
    "for element in input_list:\n",
    "    if element in occurrences:\n",
    "        occurrences[element] += 1\n",
    "    else:\n",
    "        occurrences[element] = 1\n",
    "print(\"Occurrences:\", occurrences)\n"
   ]
  },
  {
   "cell_type": "markdown",
   "id": "f49b0a0b",
   "metadata": {},
   "source": [
    "# 14.Write a code to reverse a list in-place without using any built-in reverse functions"
   ]
  },
  {
   "cell_type": "code",
   "execution_count": 9,
   "id": "346e634c",
   "metadata": {},
   "outputs": [
    {
     "name": "stdout",
     "output_type": "stream",
     "text": [
      "Reversed list: [5, 4, 3, 2, 1]\n"
     ]
    }
   ],
   "source": [
    "input_list = [1, 2, 3, 4, 5]\n",
    "# Find the length of the list\n",
    "length = len(input_list)\n",
    "# Iterate through the first half of the list\n",
    "for i in range(length // 2):\n",
    "    # Swap elements from the beginning and end of the list\n",
    "    input_list[i], input_list[length - 1 - i] = input_list[length - 1 - i], input_list[i]\n",
    "print(\"Reversed list:\", input_list)\n"
   ]
  },
  {
   "cell_type": "markdown",
   "id": "ac695c15",
   "metadata": {},
   "source": [
    "# 15.Implement a code to find and remove duplicates from a list while preserving the original order of elements"
   ]
  },
  {
   "cell_type": "code",
   "execution_count": 10,
   "id": "4af84776",
   "metadata": {},
   "outputs": [
    {
     "name": "stdout",
     "output_type": "stream",
     "text": [
      "[1, 2, 3, 4, 5, 6]\n"
     ]
    }
   ],
   "source": [
    "my_list = [1, 2, 3, 4, 2, 3, 5, 6, 1]\n",
    "seen = set()\n",
    "result = []\n",
    "for item in my_list:\n",
    "    if item not in seen:\n",
    "        result.append(item)\n",
    "        seen.add(item)\n",
    "print(result)"
   ]
  },
  {
   "cell_type": "markdown",
   "id": "72fe8045",
   "metadata": {},
   "source": [
    "# 16. Create a code to check if a given list is sorted (either in ascending or descending order) or not"
   ]
  },
  {
   "cell_type": "code",
   "execution_count": 11,
   "id": "e0f5b14f",
   "metadata": {},
   "outputs": [
    {
     "name": "stdout",
     "output_type": "stream",
     "text": [
      "Ascending\n",
      "Descending\n",
      "Not Sorted\n"
     ]
    }
   ],
   "source": [
    "list1 = [1, 2, 3, 4, 5]\n",
    "list2 = [5, 4, 3, 2, 1]\n",
    "list3 = [1, 3, 2, 4, 5]\n",
    "\n",
    "# Check if the list is sorted in ascending order\n",
    "if all(list1[i] <= list1[i + 1] for i in range(len(list1) - 1)):\n",
    "    print(\"Ascending\")\n",
    "# Check if the list is sorted in descending order\n",
    "elif all(list1[i] >= list1[i + 1] for i in range(len(list1) - 1)):\n",
    "    print(\"Descending\")\n",
    "else:\n",
    "    print(\"Not Sorted\")\n",
    "\n",
    "# Similarly for other lists\n",
    "if all(list2[i] <= list2[i + 1] for i in range(len(list2) - 1)):\n",
    "    print(\"Ascending\")\n",
    "elif all(list2[i] >= list2[i + 1] for i in range(len(list2) - 1)):\n",
    "    print(\"Descending\")\n",
    "else:\n",
    "    print(\"Not Sorted\")\n",
    "\n",
    "if all(list3[i] <= list3[i + 1] for i in range(len(list3) - 1)):\n",
    "    print(\"Ascending\")\n",
    "elif all(list3[i] >= list3[i + 1] for i in range(len(list3) - 1)):\n",
    "    print(\"Descending\")\n",
    "else:\n",
    "    print(\"Not Sorted\")\n"
   ]
  },
  {
   "cell_type": "markdown",
   "id": "91cbccdf",
   "metadata": {},
   "source": [
    "# 17. Write a code to merge two sorted lists into a single sorted list"
   ]
  },
  {
   "cell_type": "code",
   "execution_count": 12,
   "id": "ab1d7f7e",
   "metadata": {},
   "outputs": [
    {
     "name": "stdout",
     "output_type": "stream",
     "text": [
      "[1, 2, 3, 4, 5, 6, 7, 8, 9, 10]\n"
     ]
    }
   ],
   "source": [
    "list1 = [1, 3, 5, 7, 9]\n",
    "list2 = [2, 4, 6, 8, 10]\n",
    "merged_list = []\n",
    "i = j = 0\n",
    "while i < len(list1) and j < len(list2):\n",
    "    if list1[i] < list2[j]:\n",
    "        merged_list.append(list1[i])\n",
    "        i += 1\n",
    "    else:\n",
    "        merged_list.append(list2[j])\n",
    "        j += 1\n",
    "# Add remaining elements from list1, if any\n",
    "while i < len(list1):\n",
    "    merged_list.append(list1[i])\n",
    "    i += 1\n",
    "# Add remaining elements from list2, if any\n",
    "while j < len(list2):\n",
    "    merged_list.append(list2[j])\n",
    "    j += 1\n",
    "print(merged_list)\n"
   ]
  },
  {
   "cell_type": "markdown",
   "id": "0ec1a1c6",
   "metadata": {},
   "source": [
    "# 18. mplement a code to find the intersection of two given lists"
   ]
  },
  {
   "cell_type": "code",
   "execution_count": 13,
   "id": "7dac754e",
   "metadata": {},
   "outputs": [
    {
     "name": "stdout",
     "output_type": "stream",
     "text": [
      "[3, 4, 5]\n"
     ]
    }
   ],
   "source": [
    "list1 = [1, 2, 3, 4, 5]\n",
    "list2 = [3, 4, 5, 6, 7]\n",
    "\n",
    "intersection = []\n",
    "\n",
    "for item in list1:\n",
    "    if item in list2:\n",
    "        intersection.append(item)\n",
    "\n",
    "print(intersection)\n"
   ]
  },
  {
   "cell_type": "markdown",
   "id": "b8b5dfd9",
   "metadata": {},
   "source": [
    "# 19. Create a code to find the union of two lists without duplicates\u0012"
   ]
  },
  {
   "cell_type": "code",
   "execution_count": 14,
   "id": "5f51f21c",
   "metadata": {},
   "outputs": [
    {
     "name": "stdout",
     "output_type": "stream",
     "text": [
      "[1, 2, 3, 4, 5, 6, 7]\n"
     ]
    }
   ],
   "source": [
    "list1 = [1, 2, 3, 4, 5]\n",
    "list2 = [3, 4, 5, 6, 7]\n",
    "\n",
    "union = list(set(list1 + list2))\n",
    "\n",
    "print(union)\n"
   ]
  },
  {
   "cell_type": "markdown",
   "id": "493bcd12",
   "metadata": {},
   "source": [
    "# 20. write a code to shuffle a given list randomly without using any built-in shuffle functions "
   ]
  },
  {
   "cell_type": "code",
   "execution_count": 15,
   "id": "d31f70c4",
   "metadata": {},
   "outputs": [
    {
     "name": "stdout",
     "output_type": "stream",
     "text": [
      "[4, 5, 2, 3, 1]\n"
     ]
    }
   ],
   "source": [
    "import random\n",
    "\n",
    "my_list = [1, 2, 3, 4, 5]\n",
    "shuffled_list = my_list[:]  # Make a copy of the original list\n",
    "\n",
    "n = len(shuffled_list)\n",
    "for i in range(n - 1, 0, -1):\n",
    "    j = random.randint(0, i)\n",
    "    shuffled_list[i], shuffled_list[j] = shuffled_list[j], shuffled_list[i]\n",
    "\n",
    "print(shuffled_list)\n"
   ]
  },
  {
   "cell_type": "markdown",
   "id": "b9cc5ae9",
   "metadata": {},
   "source": [
    "# 21.rite a code that takes two tuples as input and returns a new tuple containing elements that are common to both input tuples"
   ]
  },
  {
   "cell_type": "code",
   "execution_count": 16,
   "id": "a5c0a351",
   "metadata": {},
   "outputs": [
    {
     "name": "stdout",
     "output_type": "stream",
     "text": [
      "(3, 4, 5)\n"
     ]
    }
   ],
   "source": [
    "tuple1 = (1, 2, 3, 4, 5)\n",
    "tuple2 = (3, 4, 5, 6, 7)\n",
    "\n",
    "result_tuple = tuple(set(tuple1) & set(tuple2))\n",
    "print(result_tuple)\n"
   ]
  },
  {
   "cell_type": "markdown",
   "id": "1e13dbe7",
   "metadata": {},
   "source": [
    "# 22. Create a code that prompts the user to enter two sets of integers separated by commas. Then, print the intersection of these two sets\u0012"
   ]
  },
  {
   "cell_type": "code",
   "execution_count": 17,
   "id": "09088f22",
   "metadata": {},
   "outputs": [
    {
     "name": "stdout",
     "output_type": "stream",
     "text": [
      "Enter the first set of integers separated by commas: 3\n",
      "Enter the second set of integers separated by commas: 4\n",
      "Intersection of the two sets: set()\n"
     ]
    }
   ],
   "source": [
    "# Prompt the user to enter two sets of integers separated by commas\n",
    "input_set1 = input(\"Enter the first set of integers separated by commas: \")\n",
    "input_set2 = input(\"Enter the second set of integers separated by commas: \")\n",
    "# Convert the input strings into sets of integers\n",
    "set1 = set(map(int, input_set1.split(',')))\n",
    "set2 = set(map(int, input_set2.split(',')))\n",
    "# Find the intersection of the two sets\n",
    "intersection_set = set1.intersection(set2)\n",
    "# Print the intersection\n",
    "print(\"Intersection of the two sets:\", intersection_set)\n"
   ]
  },
  {
   "cell_type": "markdown",
   "id": "e37e07e8",
   "metadata": {},
   "source": [
    "# 23.Write a code to concatenate two tuples. The function should take two tuples as input and return a new tuple containing elements from both input tuples."
   ]
  },
  {
   "cell_type": "code",
   "execution_count": 18,
   "id": "c530dc96",
   "metadata": {},
   "outputs": [
    {
     "name": "stdout",
     "output_type": "stream",
     "text": [
      "(1, 2, 3, 4, 5, 6)\n"
     ]
    }
   ],
   "source": [
    "def concatenate_tuples(tuple1, tuple2):\n",
    "    return tuple1 + tuple2\n",
    "# Example usage:\n",
    "tuple1 = (1, 2, 3)\n",
    "tuple2 = (4, 5, 6)\n",
    "concatenated_tuple = concatenate_tuples(tuple1, tuple2)\n",
    "print(concatenated_tuple)\n"
   ]
  },
  {
   "cell_type": "markdown",
   "id": "d4db3a18",
   "metadata": {},
   "source": [
    "# 24.  Develop a code that prompts the user to input two sets of strings. Then, print the elements that are present in the first set but not in the second set."
   ]
  },
  {
   "cell_type": "code",
   "execution_count": 19,
   "id": "64c551c4",
   "metadata": {},
   "outputs": [
    {
     "name": "stdout",
     "output_type": "stream",
     "text": [
      "Enter the first set of strings separated by commas: \"3\",\"4\",\"5\",\"6\"\n",
      "Enter the second set of strings separated by commas: \"5\",\"6\",\"7\",\"8\"\n",
      "Elements present in the first set but not in the second set: {'\"4\"', '\"3\"'}\n"
     ]
    }
   ],
   "source": [
    "# Prompt the user to enter two sets of strings separated by commas\n",
    "input_set1 = input(\"Enter the first set of strings separated by commas: \")\n",
    "input_set2 = input(\"Enter the second set of strings separated by commas: \")\n",
    "\n",
    "# Convert the input strings into sets\n",
    "set1 = set(input_set1.split(','))\n",
    "set2 = set(input_set2.split(','))\n",
    "\n",
    "# Find the elements present in the first set but not in the second set\n",
    "difference_set = set1 - set2\n",
    "\n",
    "# Print the elements\n",
    "print(\"Elements present in the first set but not in the second set:\", difference_set)\n"
   ]
  },
  {
   "cell_type": "markdown",
   "id": "27892378",
   "metadata": {},
   "source": [
    "# 25.Create a code that takes a tuple and two integers as input. The function should return a new tuple containing elements from the original tuple within the specified range of indices."
   ]
  },
  {
   "cell_type": "code",
   "execution_count": 20,
   "id": "4079fbad",
   "metadata": {},
   "outputs": [
    {
     "name": "stdout",
     "output_type": "stream",
     "text": [
      "(3, 4, 5, 6)\n"
     ]
    }
   ],
   "source": [
    "my_tuple = (1, 2, 3, 4, 5, 6, 7, 8, 9)\n",
    "start_index = 2\n",
    "end_index = 5\n",
    "sliced_tuple = my_tuple[start_index:end_index+1]\n",
    "print(sliced_tuple)\n"
   ]
  },
  {
   "cell_type": "markdown",
   "id": "10068569",
   "metadata": {},
   "source": [
    "# 26. Write a code that prompts the user to input two sets of characters. Then, print the union of these two sets."
   ]
  },
  {
   "cell_type": "code",
   "execution_count": 21,
   "id": "64420231",
   "metadata": {},
   "outputs": [
    {
     "name": "stdout",
     "output_type": "stream",
     "text": [
      "Enter the first set of characters separated by commas: \"i am a good boy\"\n",
      "Enter the second set of characters separated by commas: \"i am a good programmer\"\n",
      "Union of the two sets: {'\"i am a good boy\"', '\"i am a good programmer\"'}\n"
     ]
    }
   ],
   "source": [
    "# Prompt the user to enter two sets of characters separated by commas\n",
    "input_set1 = input(\"Enter the first set of characters separated by commas: \")\n",
    "input_set2 = input(\"Enter the second set of characters separated by commas: \")\n",
    "\n",
    "# Convert the input strings into sets\n",
    "set1 = set(input_set1.split(','))\n",
    "set2 = set(input_set2.split(','))\n",
    "\n",
    "# Find the union of the two sets\n",
    "union_set = set1.union(set2)\n",
    "\n",
    "# Print the union\n",
    "print(\"Union of the two sets:\", union_set)\n"
   ]
  },
  {
   "cell_type": "markdown",
   "id": "71a2dc9f",
   "metadata": {},
   "source": [
    "# 27. Develop a code that takes a tuple of integers as input. The function should return the maximum and minimum values from the tuple using tuple unpacking"
   ]
  },
  {
   "cell_type": "code",
   "execution_count": 22,
   "id": "2977f166",
   "metadata": {},
   "outputs": [
    {
     "name": "stdout",
     "output_type": "stream",
     "text": [
      "Maximum value: 30\n",
      "Minimum value: 5\n"
     ]
    }
   ],
   "source": [
    "my_tuple = (10, 5, 20, 15, 30)\n",
    "\n",
    "max_value = max(my_tuple)\n",
    "min_value = min(my_tuple)\n",
    "\n",
    "print(\"Maximum value:\", max_value)\n",
    "print(\"Minimum value:\", min_value)\n"
   ]
  },
  {
   "cell_type": "markdown",
   "id": "5fe8d8cb",
   "metadata": {},
   "source": [
    "# 28. reate a code that defines two sets of integers. Then, print the union, intersection, and difference of these two sets."
   ]
  },
  {
   "cell_type": "code",
   "execution_count": 23,
   "id": "2a64cf44",
   "metadata": {},
   "outputs": [
    {
     "name": "stdout",
     "output_type": "stream",
     "text": [
      "Union: {1, 2, 3, 4, 5, 6, 7, 8}\n",
      "Intersection: {4, 5}\n",
      "Difference of set1 - set2: {1, 2, 3}\n",
      "Difference of set2 - set1: {8, 6, 7}\n"
     ]
    }
   ],
   "source": [
    "# Define two sets of integers\n",
    "set1 = {1, 2, 3, 4, 5}\n",
    "set2 = {4, 5, 6, 7, 8}\n",
    "\n",
    "# Union of the two sets\n",
    "union_set = set1.union(set2)\n",
    "\n",
    "# Intersection of the two sets\n",
    "intersection_set = set1.intersection(set2)\n",
    "\n",
    "# Difference between set1 and set2\n",
    "difference_set1 = set1.difference(set2)\n",
    "\n",
    "# Difference between set2 and set1\n",
    "difference_set2 = set2.difference(set1)\n",
    "\n",
    "# Print the results\n",
    "print(\"Union:\", union_set)\n",
    "print(\"Intersection:\", intersection_set)\n",
    "print(\"Difference of set1 - set2:\", difference_set1)\n",
    "print(\"Difference of set2 - set1:\", difference_set2)\n"
   ]
  },
  {
   "cell_type": "markdown",
   "id": "e293d67e",
   "metadata": {},
   "source": [
    "# 29. Write a code that takes a tuple and an element as input. The function should return the count of occurrences of the given element in the tuple."
   ]
  },
  {
   "cell_type": "code",
   "execution_count": 24,
   "id": "8299e9c4",
   "metadata": {},
   "outputs": [
    {
     "name": "stdout",
     "output_type": "stream",
     "text": [
      "Number of occurrences of 2 in the tuple: 2\n"
     ]
    }
   ],
   "source": [
    "my_tuple = (1, 2, 3, 4, 2, 3, 5, 6, 1)\n",
    "element_to_count = 2\n",
    "occurrences = my_tuple.count(element_to_count)\n",
    "print(\"Number of occurrences of\", element_to_count, \"in the tuple:\", occurrences)\n"
   ]
  },
  {
   "cell_type": "markdown",
   "id": "90059550",
   "metadata": {},
   "source": [
    "# 30. evelop a code that prompts the user to input two sets of strings. Then, print the symmetric difference of these two set."
   ]
  },
  {
   "cell_type": "code",
   "execution_count": 26,
   "id": "82a5a35b",
   "metadata": {},
   "outputs": [
    {
     "name": "stdout",
     "output_type": "stream",
     "text": [
      "Enter the first set of strings separated by commas: \"azhar is a good sql developer\"\n",
      "Enter the second set of strings separated by commas: \"azhar is a good python developer\"\n",
      "Symmetric difference of the two sets: {'\"azhar is a good python developer\"', '\"azhar is a good sql developer\"'}\n"
     ]
    }
   ],
   "source": [
    "# Prompt the user to enter two sets of strings separated by commas\n",
    "input_set1 = input(\"Enter the first set of strings separated by commas: \")\n",
    "input_set2 = input(\"Enter the second set of strings separated by commas: \")\n",
    "\n",
    "# Convert the input strings into sets\n",
    "set1 = set(input_set1.split(','))\n",
    "set2 = set(input_set2.split(','))\n",
    "\n",
    "# Find the symmetric difference of the two sets\n",
    "symmetric_difference_set = set1.symmetric_difference(set2)\n",
    "\n",
    "# Print the symmetric difference\n",
    "print(\"Symmetric difference of the two sets:\", symmetric_difference_set)\n"
   ]
  },
  {
   "cell_type": "markdown",
   "id": "31beb374",
   "metadata": {},
   "source": [
    "# 31. rite a code that takes a list of words as input and returns a dictionary where the keys are unique words and the values are the frequencies of those words in the input list."
   ]
  },
  {
   "cell_type": "code",
   "execution_count": 27,
   "id": "b51e30de",
   "metadata": {},
   "outputs": [
    {
     "name": "stdout",
     "output_type": "stream",
     "text": [
      "{'apple': 3, 'banana': 2, 'orange': 1}\n"
     ]
    }
   ],
   "source": [
    "words_list = [\"apple\", \"banana\", \"apple\", \"orange\", \"banana\", \"apple\"]\n",
    "frequency_dict = {}\n",
    "for word in words_list:\n",
    "    if word in frequency_dict:\n",
    "        frequency_dict[word] += 1\n",
    "    else:\n",
    "        frequency_dict[word] = 1\n",
    "\n",
    "print(frequency_dict)\n"
   ]
  },
  {
   "cell_type": "markdown",
   "id": "c2cfce06",
   "metadata": {},
   "source": [
    "# 32. Write a code that takes two dictionaries as input and merges them into a single dictionary. If there are common keys, the values should be added together."
   ]
  },
  {
   "cell_type": "code",
   "execution_count": 28,
   "id": "4c3e17d3",
   "metadata": {},
   "outputs": [
    {
     "name": "stdout",
     "output_type": "stream",
     "text": [
      "{'a': 10, 'b': 25, 'c': 45, 'd': 25}\n"
     ]
    }
   ],
   "source": [
    "dict1 = {'a': 10, 'b': 20, 'c': 30}\n",
    "dict2 = {'b': 5, 'c': 15, 'd': 25}\n",
    "\n",
    "merged_dict = dict1.copy()\n",
    "\n",
    "for key, value in dict2.items():\n",
    "    if key in merged_dict:\n",
    "        merged_dict[key] += value\n",
    "    else:\n",
    "        merged_dict[key] = value\n",
    "\n",
    "print(merged_dict)\n"
   ]
  },
  {
   "cell_type": "markdown",
   "id": "f3eab5df",
   "metadata": {},
   "source": [
    "# 33. rite a code to access a value in a nested dictionary. The function should take the dictionary and a list of keys as input, and return the corresponding value. If any of the keys do not exist in the dictionary, the function should return None."
   ]
  },
  {
   "cell_type": "code",
   "execution_count": 29,
   "id": "e2a04de5",
   "metadata": {},
   "outputs": [
    {
     "name": "stdout",
     "output_type": "stream",
     "text": [
      "Value corresponding to keys: 1\n"
     ]
    }
   ],
   "source": [
    "nested_dict = {\n",
    "    'a': {\n",
    "        'b': {\n",
    "            'c': 1,\n",
    "            'd': 2\n",
    "        },\n",
    "        'e': {\n",
    "            'f': 3,\n",
    "            'g': 4\n",
    "        }\n",
    "    }\n",
    "}\n",
    "\n",
    "keys_list = ['a', 'b', 'c']\n",
    "\n",
    "value = nested_dict\n",
    "for key in keys_list:\n",
    "    if key in value:\n",
    "        value = value[key]\n",
    "    else:\n",
    "        value = None\n",
    "        break\n",
    "\n",
    "print(\"Value corresponding to keys:\", value)\n"
   ]
  },
  {
   "cell_type": "markdown",
   "id": "3c87b495",
   "metadata": {},
   "source": [
    "# 34.  Write a code that takes a dictionary as input and returns a sorted version of it based on the values. You can choose whether to sort in ascending or descending order."
   ]
  },
  {
   "cell_type": "code",
   "execution_count": 30,
   "id": "2f43d516",
   "metadata": {},
   "outputs": [
    {
     "name": "stdout",
     "output_type": "stream",
     "text": [
      "Sorted dictionary (ascending order): {'b': 1, 'd': 2, 'a': 3, 'c': 5}\n"
     ]
    }
   ],
   "source": [
    "my_dict = {'a': 3, 'b': 1, 'c': 5, 'd': 2}\n",
    "\n",
    "sorted_dict = dict(sorted(my_dict.items(), key=lambda item: item[1]))\n",
    "\n",
    "print(\"Sorted dictionary (ascending order):\", sorted_dict)\n"
   ]
  },
  {
   "cell_type": "markdown",
   "id": "bbffdeae",
   "metadata": {},
   "source": [
    "# 35.  Write a code that inverts a dictionary, swapping keys and values. Ensure that the inverted dictionary correctly handles cases where multiple keys have the same value by storing the keys as a list in the inverted dictionary."
   ]
  },
  {
   "cell_type": "code",
   "execution_count": 31,
   "id": "9ed5a563",
   "metadata": {},
   "outputs": [
    {
     "name": "stdout",
     "output_type": "stream",
     "text": [
      "Inverted dictionary: {1: ['a', 'c'], 2: ['b'], 3: ['d']}\n"
     ]
    }
   ],
   "source": [
    "my_dict = {'a': 1, 'b': 2, 'c': 1, 'd': 3}\n",
    "\n",
    "inverted_dict = {}\n",
    "for key, value in my_dict.items():\n",
    "    if value in inverted_dict:\n",
    "        inverted_dict[value].append(key)\n",
    "    else:\n",
    "        inverted_dict[value] = [key]\n",
    "\n",
    "print(\"Inverted dictionary:\", inverted_dict)\n"
   ]
  },
  {
   "cell_type": "code",
   "execution_count": null,
   "id": "46e7154b",
   "metadata": {},
   "outputs": [],
   "source": []
  }
 ],
 "metadata": {
  "kernelspec": {
   "display_name": "Python 3 (ipykernel)",
   "language": "python",
   "name": "python3"
  },
  "language_info": {
   "codemirror_mode": {
    "name": "ipython",
    "version": 3
   },
   "file_extension": ".py",
   "mimetype": "text/x-python",
   "name": "python",
   "nbconvert_exporter": "python",
   "pygments_lexer": "ipython3",
   "version": "3.9.7"
  }
 },
 "nbformat": 4,
 "nbformat_minor": 5
}
